{
  "nbformat": 4,
  "nbformat_minor": 0,
  "metadata": {
    "colab": {
      "name": "5_PrácticoANS.ipynb",
      "provenance": [],
      "authorship_tag": "ABX9TyM7Iux1Dz18yST5pu7IQZrL",
      "include_colab_link": true
    },
    "kernelspec": {
      "name": "python3",
      "display_name": "Python 3"
    }
  },
  "cells": [
    {
      "cell_type": "markdown",
      "metadata": {
        "id": "view-in-github",
        "colab_type": "text"
      },
      "source": [
        "<a href=\"https://colab.research.google.com/github/caropilardiaz/Mentoria-Imagenes_Drones/blob/master/5_Pr%C3%A1cticoANS.ipynb\" target=\"_parent\"><img src=\"https://colab.research.google.com/assets/colab-badge.svg\" alt=\"Open In Colab\"/></a>"
      ]
    },
    {
      "cell_type": "markdown",
      "metadata": {
        "id": "p-6H1i0wA_Vr"
      },
      "source": [
        "#**Diplomatura en Ciencias de Datos, Aprendizaje Automático y sus Aplicaciones**#\n",
        "\n",
        "\n",
        "##**Mentoría Diplomatura en Ciencia de Datos 2020**##\n",
        "\n",
        "###**\"Detección del desarrollo del cultivo con imágenes de Drones\"**##\n",
        "\n",
        "\n",
        "**Mentora: Carolina Del Pilar Díaz**\n",
        "\n",
        "\n",
        "**Aprendizaje No Automático**\n"
      ]
    },
    {
      "cell_type": "markdown",
      "metadata": {
        "id": "kHTKjvhwFNz_"
      },
      "source": [
        "###Introducción"
      ]
    },
    {
      "cell_type": "markdown",
      "metadata": {
        "id": "OuGIMiP81aDV"
      },
      "source": [
        "En la siguiente notebook se presentará la consigna a seguir para el quinto y último práctico del proyecto, correspondiente a la materia Aprendizaje Automático No Supervisado. El objetivo consiste en aplicar distintas técnicas de análisis exploratorio de datos al dataset, de modo de encontrar patrones sistematizables. Es decir que, a los fines de este práctico, por un momento nos olvidaremos de nuestro problema original de clasificación múltiple y de que tenemos datos etiquetados con sus respectivas clases.\n",
        "\n",
        "Luego, una vez aplicadas las técnicas de aprendizaje no supervisado y del cálculo de las métricas pertinentes, podremos recurrir a las etiquetas de clases con el fin de contrastar los resultados obtenidos.\n",
        "\n",
        "A pesar de que no serán utilizadas las etiquetas en una primera instancia, será importante evaluar el desbalance de clases y qué decisiones tomarán al respecto."
      ]
    },
    {
      "cell_type": "markdown",
      "metadata": {
        "id": "jrbW-eo-Lq4L"
      },
      "source": [
        "###Importaciones"
      ]
    },
    {
      "cell_type": "code",
      "metadata": {
        "id": "H8RW_80GNGn6"
      },
      "source": [
        "#Importamos las librerías necesarias\n",
        "import numpy as np\n",
        "import pandas as pd\n",
        "# Puede que nos sirvan también\n",
        "import matplotlib as mpl\n",
        "mpl.get_cachedir()\n",
        "import matplotlib.pyplot as plt\n",
        "%matplotlib inline\n",
        "import seaborn as sns\n",
        "# import sklearn as skl\n",
        "\n",
        "from sklearn import preprocessing\n",
        "from sklearn.utils import shuffle\n",
        "from sklearn.decomposition.pca import PCA\n",
        "from sklearn.decomposition import FactorAnalysis\n",
        "from sklearn.cluster import KMeans\n",
        "from sklearn.metrics.pairwise import cosine_similarity\n",
        "from sklearn.metrics import silhouette_samples, silhouette_score\n",
        "from sklearn.model_selection import train_test_split\n",
        "\n",
        "random_state = 0\n",
        "np.random.seed(0)  # Para mayor determinismo"
      ],
      "execution_count": null,
      "outputs": []
    },
    {
      "cell_type": "code",
      "metadata": {
        "id": "kv2Gg9PxNTyB"
      },
      "source": [
        "pd.set_option('display.max_columns', 150)\n",
        "pd.set_option('display.max_rows', 150)\n",
        "pd.set_option('max_colwidth', 151)"
      ],
      "execution_count": null,
      "outputs": []
    },
    {
      "cell_type": "markdown",
      "metadata": {
        "id": "QowbJJjUOCxp"
      },
      "source": [
        "###Consignas"
      ]
    },
    {
      "cell_type": "markdown",
      "metadata": {
        "id": "ApXJL3n1OjKp"
      },
      "source": [
        "#1.Preprocesamiento#"
      ]
    },
    {
      "cell_type": "markdown",
      "metadata": {
        "id": "rWvDmP4tQSzh"
      },
      "source": [
        "1.1 **Carga Dataset**\n",
        "\n",
        "Inicialmente con el objetivo de obtener el dataset para los algoritmos de ANS, deberán cargar el dataset original conjunto( incluídas features climáticas)"
      ]
    },
    {
      "cell_type": "markdown",
      "metadata": {
        "id": "twnnR2G2RBTX"
      },
      "source": [
        "1.2 **Curación**"
      ]
    },
    {
      "cell_type": "markdown",
      "metadata": {
        "id": "S7ysFbSpRnwZ"
      },
      "source": [
        "Aplicar Script de curación obtenido en el práctico 2"
      ]
    },
    {
      "cell_type": "markdown",
      "metadata": {
        "id": "MqLCx16sRwh4"
      },
      "source": [
        "1.3 **Análisis del Balance de Clases**"
      ]
    },
    {
      "cell_type": "markdown",
      "metadata": {
        "id": "M7hxqDegSIFI"
      },
      "source": [
        "En una primera instancia, podemos dejar que los algoritmos identifiquen patrones, sin necesidad de preocuparnos por el balance de clases.\n",
        "\n",
        "En una etapa posterior, y aprovechando que tenemos las etiquetas, aplicarán los mismos algoritmos pero considerando el desbalance de clases en el dataset. Para ello, usar el parámetro sample_weight de k_means. Obtener conclusiones entre ambos resultados."
      ]
    },
    {
      "cell_type": "markdown",
      "metadata": {
        "id": "jvSF6HQQSV-P"
      },
      "source": [
        "1.4 **Multicolinealidad Exacta**"
      ]
    },
    {
      "cell_type": "markdown",
      "metadata": {
        "id": "98IRE4-jSmOY"
      },
      "source": [
        "Las variables explicativas no deben estar muy correlacionadas entre ellas, ya que la variabilidad de una y otra estarán explicando la misma parte de variabilidad de la variable dependiente. Esto es lo que se conoce como multicolinealidad, lo cual deriva en la imposibilidad de estimar los parámetros cuando la misma es exacta o en estimaciones muy imprecisas cuando la misma es aproximada. \n",
        "\n",
        "Dada la particularidad de nuestro dataset, deberían incorporar aquellas que posean la menor cantidad de multicolinealidad en la medida de lo posible (es muy difícil desestimar los índices) pero si podríamos desestimar peso de grano por ejemplo sólo aquellas que sean muy evidentes."
      ]
    },
    {
      "cell_type": "markdown",
      "metadata": {
        "id": "ysT55B0uUHaS"
      },
      "source": [
        "1.5 **Creación de nuevos atributos**"
      ]
    },
    {
      "cell_type": "markdown",
      "metadata": {
        "id": "7NcUzZ_9Uw5_"
      },
      "source": [
        "En esta etapa, pueden adicionar atributos calculados a partir de los datos preexistentes, que crean que son pertinentes a priori o que hayan encontrado interesantes por tener mayor correlación con la variable Target. Por ejemplo, una variable que represente las modas de las variedades por parcelas, el cuadrado de los días entre fechas, entre otras las que les parezca que de importancia"
      ]
    },
    {
      "cell_type": "markdown",
      "metadata": {
        "id": "idkVuz1JVZlP"
      },
      "source": [
        " 1.6  **Normalización de Atributos**"
      ]
    },
    {
      "cell_type": "markdown",
      "metadata": {
        "id": "d4ELOuxQXwI4"
      },
      "source": [
        "Estandarizar el dataset usando alguna de las técnicas vistas en clase para variables continuas dado que los algoritmos de clasificación no supervisada lo requieren. Aplicar al dataset la normalización de atributos que consideren adecuada.\n",
        "\n",
        "https://towardsdatascience.com/scale-standardize-or-normalize-with-scikit-learn-6ccc7d176a02"
      ]
    },
    {
      "cell_type": "markdown",
      "metadata": {
        "id": "-gnYf568YLiV"
      },
      "source": [
        "1.7 **Mezcla Aleatoria**"
      ]
    },
    {
      "cell_type": "markdown",
      "metadata": {
        "id": "PO0dDO4BZTkt"
      },
      "source": [
        "Finalmente, es recomendable que mezclen los datos aleatoriamente, dado que la inicialización influye en los resultados del modelo que se propone que implementen.\n",
        "\n"
      ]
    },
    {
      "cell_type": "markdown",
      "metadata": {
        "id": "hyanY8TOZ0Z0"
      },
      "source": [
        "#2.Aprendizaje no Supervisado#"
      ]
    },
    {
      "cell_type": "markdown",
      "metadata": {
        "id": "xpl19WUPaBfs"
      },
      "source": [
        "Una vez finalizada la etapa de preprocesamiento, se propone implementar, por un lado, una técnica de reducción de dimensionalidad para representar los datos y, por el otro, una técnica de clusterización."
      ]
    },
    {
      "cell_type": "markdown",
      "metadata": {
        "id": "IBgRAdkvae10"
      },
      "source": [
        "2.1 **PCA**"
      ]
    },
    {
      "cell_type": "markdown",
      "metadata": {
        "id": "0qudxgicdaD-"
      },
      "source": [
        " DescomposiCión de Variables: Principal Component Analysis.A partir del análisis y la visualización de los datasets transformados por PCA, obtener conclusiones."
      ]
    },
    {
      "cell_type": "markdown",
      "metadata": {
        "id": "kDxykuYIeYKb"
      },
      "source": [
        "2.2 **K-MEANS CLUSTERING**"
      ]
    },
    {
      "cell_type": "markdown",
      "metadata": {
        "id": "n7f61e-jeiZb"
      },
      "source": [
        "Aplicar K-Means tanto al dataset originales.\n",
        "\n",
        "Explorar distintas soluciones de clustering con diferentes parámetros, como iteraciones, número de clusters o métricas de distancia, y compararlas. Finalmente, para el modelo seleccionado:\n",
        "\n",
        "Calcular las métricas pertinentes sobre los clusters resultantes.\n",
        "\n",
        "Aplicando el método de Elbow, ¿cuál sería la cantidad óptima de clusters?\n",
        "\n",
        "Agregar a los dataset originales el cluster resultante de los modelos.\n",
        "\n",
        "Graficar diferentes variables de interés por cluster y por clase, y compararlos.\n",
        "\n",
        "Calcular los centroides y tratar de mostrar qué tiene cada cluster cerca de su centroide.\n",
        "\n",
        "Obtener conclusiones.\n",
        "\n",
        "Contrastar la clasificación en clusters con las etiquetas de clases (Zadoks), tanto gráfica como analíticamente. "
      ]
    },
    {
      "cell_type": "markdown",
      "metadata": {
        "id": "Uo3RmFWwfH30"
      },
      "source": [
        "***Escribir una conclusión final en base a lo analizado***"
      ]
    },
    {
      "cell_type": "markdown",
      "metadata": {
        "id": "uSZUFkRtg5ZM"
      },
      "source": [
        "#3. Opcional#"
      ]
    },
    {
      "cell_type": "markdown",
      "metadata": {
        "id": "4Ff1U19FhFvq"
      },
      "source": [
        "\n",
        "Elegir e implementar otro algoritmo de clustering (de los vistos en clases) y analizar los resultados en base a la métrica que corresponda. Intentar responder las siguientes preguntas disparadoras:\n",
        "¿Son diferentes los resultados con respecto al punto anterior?\n",
        "¿Considera que un método es mejor que otro? ¿Por qué?\n",
        "\n"
      ]
    },
    {
      "cell_type": "markdown",
      "metadata": {
        "id": "6mnV88QrhaSR"
      },
      "source": [
        "**Recuerden: Para aplicar clustering, sacar la variable `Target` del datasets!**"
      ]
    },
    {
      "cell_type": "markdown",
      "metadata": {
        "id": "Zgoppm-siKMp"
      },
      "source": [
        "#Entregable#\n",
        "El entregable de este práctico consiste en esta misma Notebook, pero con el preprocesamiento aplicado y las técnicas implementadas, agregando las explicaciones que crean pertinentes y las decisiones tomadas, en caso de corresponder."
      ]
    },
    {
      "cell_type": "markdown",
      "metadata": {
        "id": "fTv3VPpeiPlp"
      },
      "source": [
        "#Resolución#"
      ]
    }
  ]
}