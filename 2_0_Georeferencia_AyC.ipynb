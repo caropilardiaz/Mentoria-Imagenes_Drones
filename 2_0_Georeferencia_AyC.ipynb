{
  "nbformat": 4,
  "nbformat_minor": 0,
  "metadata": {
    "colab": {
      "name": "2_0_Georeferencia_AyC.ipynb",
      "provenance": [],
      "authorship_tag": "ABX9TyMBKOLBuqDJ6nh846nViV2f",
      "include_colab_link": true
    },
    "kernelspec": {
      "name": "python3",
      "display_name": "Python 3"
    }
  },
  "cells": [
    {
      "cell_type": "markdown",
      "metadata": {
        "id": "view-in-github",
        "colab_type": "text"
      },
      "source": [
        "<a href=\"https://colab.research.google.com/github/caropilardiaz/Mentoria-Imagenes_Drones/blob/master/2_0_Georeferencia_AyC.ipynb\" target=\"_parent\"><img src=\"https://colab.research.google.com/assets/colab-badge.svg\" alt=\"Open In Colab\"/></a>"
      ]
    },
    {
      "cell_type": "markdown",
      "metadata": {
        "id": "c-R7XwGOWOO1",
        "colab_type": "text"
      },
      "source": [
        "##Ingeniería de Features\n",
        "##Diplodatos 2020, Mentorias\n",
        "##Mentora:Carolina Del Pilar Díaz"
      ]
    },
    {
      "cell_type": "markdown",
      "metadata": {
        "id": "zeOYT5VlWPhn",
        "colab_type": "text"
      },
      "source": [
        "###Instalación de librerías"
      ]
    },
    {
      "cell_type": "code",
      "metadata": {
        "id": "lnRZ6NwJxypc",
        "colab_type": "code",
        "colab": {}
      },
      "source": [
        "!pip install geopandas\n",
        "!apt install libspatialindex-dev\n",
        "!pip install rtree\n",
        "!pip install osmnx\n",
        "!pip install contextily"
      ],
      "execution_count": null,
      "outputs": []
    },
    {
      "cell_type": "markdown",
      "metadata": {
        "id": "UE0jET3MzezK",
        "colab_type": "text"
      },
      "source": [
        "### Cargar informacion"
      ]
    },
    {
      "cell_type": "code",
      "metadata": {
        "id": "k5ieXLizxns9",
        "colab_type": "code",
        "colab": {}
      },
      "source": [
        "import warnings\n",
        "warnings.filterwarnings('ignore')"
      ],
      "execution_count": null,
      "outputs": []
    },
    {
      "cell_type": "code",
      "metadata": {
        "id": "I_Mkzd6WxPYt",
        "colab_type": "code",
        "colab": {}
      },
      "source": [
        "from IPython.display import Image\n",
        "import numpy as np\n",
        "import matplotlib.pyplot as plt\n",
        "import seaborn as sns\n",
        "import datetime"
      ],
      "execution_count": null,
      "outputs": []
    },
    {
      "cell_type": "code",
      "metadata": {
        "id": "SkXMzxQAzn4v",
        "colab_type": "code",
        "colab": {}
      },
      "source": [
        "import geopandas as gpd\n",
        "import pandas as pd\n",
        "from shapely.geometry import Point, LineString, Polygon, MultiPoint, MultiLineString\n",
        "import contextily as ctx"
      ],
      "execution_count": null,
      "outputs": []
    },
    {
      "cell_type": "code",
      "metadata": {
        "id": "DRrzUJp-z11Y",
        "colab_type": "code",
        "colab": {}
      },
      "source": [
        "# Editar con el path correspondiente a sus datos\n",
        "data_path = './drive/My Drive/Mentoria_Drones_master'"
      ],
      "execution_count": null,
      "outputs": []
    },
    {
      "cell_type": "code",
      "metadata": {
        "id": "eBtYFfv3eC4B",
        "colab_type": "code",
        "colab": {}
      },
      "source": [
        "from google.colab import drive\n",
        "drive.mount('/content/drive')"
      ],
      "execution_count": null,
      "outputs": []
    },
    {
      "cell_type": "code",
      "metadata": {
        "id": "1z0ybjJLeUsE",
        "colab_type": "code",
        "colab": {}
      },
      "source": [
        "DATA_DIRECTORY = '/content/drive/My Drive/Mentoria-Drones-master/data/'"
      ],
      "execution_count": null,
      "outputs": []
    },
    {
      "cell_type": "markdown",
      "metadata": {
        "id": "LFr0azgpbTDd",
        "colab_type": "text"
      },
      "source": [
        "### Cargamos los datos\n"
      ]
    },
    {
      "cell_type": "code",
      "metadata": {
        "id": "cRCR-H_ldwHn",
        "colab_type": "code",
        "colab": {}
      },
      "source": [
        "import os"
      ],
      "execution_count": null,
      "outputs": []
    },
    {
      "cell_type": "code",
      "metadata": {
        "id": "hwUWs-5J3J0f",
        "colab_type": "code",
        "colab": {}
      },
      "source": [
        "dataframe = pd.read_csv(os.path.join(DATA_DIRECTORY,'Dron1.csv'))\n"
      ],
      "execution_count": null,
      "outputs": []
    },
    {
      "cell_type": "markdown",
      "metadata": {
        "id": "CC2-96K5jMgl",
        "colab_type": "text"
      },
      "source": [
        "## Manejo de objetos graficos con Shapely\n",
        "\n",
        "https://shapely.readthedocs.io/en/latest/manual.html"
      ]
    },
    {
      "cell_type": "markdown",
      "metadata": {
        "id": "ArrSxr0ryRLn",
        "colab_type": "text"
      },
      "source": [
        "##Leemos los datos dentro de un dataframe de pandas"
      ]
    },
    {
      "cell_type": "code",
      "metadata": {
        "id": "CXdVF2KMygt9",
        "colab_type": "code",
        "colab": {}
      },
      "source": [
        "dron = pd.read_csv(os.path.join(DATA_DIRECTORY,'Dron1.csv'), thousands='.') # Indicamos el separador de miles"
      ],
      "execution_count": null,
      "outputs": []
    },
    {
      "cell_type": "code",
      "metadata": {
        "id": "qpYDqhd8zpen",
        "colab_type": "code",
        "colab": {}
      },
      "source": [
        "dron.head()"
      ],
      "execution_count": null,
      "outputs": []
    },
    {
      "cell_type": "code",
      "metadata": {
        "id": "NMmIjKbFZK_Z",
        "colab_type": "code",
        "colab": {}
      },
      "source": [
        "dron.dtypes"
      ],
      "execution_count": null,
      "outputs": []
    },
    {
      "cell_type": "markdown",
      "metadata": {
        "id": "c-PICOQpz2tN",
        "colab_type": "text"
      },
      "source": [
        "###Podemos convertirlo en un GeoDataframe indicando las columnas que contienen la información geografica"
      ]
    },
    {
      "cell_type": "code",
      "metadata": {
        "id": "lhutacwFz1e1",
        "colab_type": "code",
        "colab": {}
      },
      "source": [
        "dron_gp = gpd.GeoDataFrame(dron, geometry=gpd.points_from_xy(dron.Longitude, dron.Latitude))"
      ],
      "execution_count": null,
      "outputs": []
    },
    {
      "cell_type": "code",
      "metadata": {
        "id": "tBo0r2PU62Dq",
        "colab_type": "code",
        "colab": {}
      },
      "source": [
        "dron_gp.shape, dron_gp.columns"
      ],
      "execution_count": null,
      "outputs": []
    },
    {
      "cell_type": "markdown",
      "metadata": {
        "id": "Jn_2i4jDpOHU",
        "colab_type": "text"
      },
      "source": [
        "###Objetos geométricos básicos"
      ]
    },
    {
      "cell_type": "code",
      "metadata": {
        "id": "jDLOkQXHpM5r",
        "colab_type": "code",
        "colab": {}
      },
      "source": [
        "dron_gp.geometry.head()"
      ],
      "execution_count": null,
      "outputs": []
    },
    {
      "cell_type": "code",
      "metadata": {
        "id": "XaLumUyS5gEU",
        "colab_type": "code",
        "colab": {}
      },
      "source": [
        "p = Point(1,0)\n",
        "o = Point(0,0)"
      ],
      "execution_count": null,
      "outputs": []
    },
    {
      "cell_type": "code",
      "metadata": {
        "id": "-Y477-sK5lnq",
        "colab_type": "code",
        "colab": {}
      },
      "source": [
        "p.length, p.area, p.bounds, p.x, p.y"
      ],
      "execution_count": null,
      "outputs": []
    },
    {
      "cell_type": "code",
      "metadata": {
        "id": "YGL0EAqB5uMa",
        "colab_type": "code",
        "colab": {}
      },
      "source": [
        "l = LineString([(1,1),(-1,-1),(-1,-0.5)])\n",
        "l"
      ],
      "execution_count": null,
      "outputs": []
    },
    {
      "cell_type": "code",
      "metadata": {
        "id": "qKyf-OKp5wHD",
        "colab_type": "code",
        "colab": {}
      },
      "source": [
        "l.area, l.length, l.bounds, l.xy, l.centroid.xy"
      ],
      "execution_count": null,
      "outputs": []
    },
    {
      "cell_type": "code",
      "metadata": {
        "id": "e5RJXOjn58Da",
        "colab_type": "code",
        "colab": {}
      },
      "source": [
        "c = Polygon([(0,0),(0,1),(1,1),(1,0),(0.5,-0.5)])\n",
        "c"
      ],
      "execution_count": null,
      "outputs": []
    },
    {
      "cell_type": "code",
      "metadata": {
        "id": "DICiX-Su6BCa",
        "colab_type": "code",
        "colab": {}
      },
      "source": [
        "c.area, c.length, c.bounds, c.centroid.x, c.centroid.y"
      ],
      "execution_count": null,
      "outputs": []
    },
    {
      "cell_type": "markdown",
      "metadata": {
        "id": "RQGu1hBs6ObT",
        "colab_type": "text"
      },
      "source": [
        "###Operaciones Basicas"
      ]
    },
    {
      "cell_type": "code",
      "metadata": {
        "id": "cRAQwZWH6RYB",
        "colab_type": "code",
        "colab": {}
      },
      "source": [
        "p.distance(l) # Distancia del punto a linea"
      ],
      "execution_count": null,
      "outputs": []
    },
    {
      "cell_type": "code",
      "metadata": {
        "id": "KN_dl9HN6aAy",
        "colab_type": "code",
        "colab": {}
      },
      "source": [
        "l.contains(p) # Contiene"
      ],
      "execution_count": null,
      "outputs": []
    },
    {
      "cell_type": "code",
      "metadata": {
        "id": "HSNn96m96bzy",
        "colab_type": "code",
        "colab": {}
      },
      "source": [
        "l.intersects(c) # Interseccion"
      ],
      "execution_count": null,
      "outputs": []
    },
    {
      "cell_type": "markdown",
      "metadata": {
        "id": "R0gALezmqDaX",
        "colab_type": "text"
      },
      "source": [
        "###Gráficamos diseño experimental"
      ]
    },
    {
      "cell_type": "code",
      "metadata": {
        "id": "bptOuTpT0N-U",
        "colab_type": "code",
        "colab": {}
      },
      "source": [
        "# Graficamos y ajustamos el tamaño\n",
        "dron_gp.plot(figsize=(10,10))"
      ],
      "execution_count": null,
      "outputs": []
    },
    {
      "cell_type": "code",
      "metadata": {
        "id": "hOmVe8lB0igE",
        "colab_type": "code",
        "colab": {}
      },
      "source": [
        "# Podemos usar cualquier columna para codificar los colores del grafico, con el parametro column\n",
        "dron_gp.plot(figsize=(10,10), column='Variedad')"
      ],
      "execution_count": null,
      "outputs": []
    },
    {
      "cell_type": "code",
      "metadata": {
        "id": "iHWIOhtQ0oP9",
        "colab_type": "code",
        "colab": {}
      },
      "source": [
        "# Incluso utilizando variables numericas\n",
        "dron_gp.plot(figsize=(10,10), column='Peso de 1000 granos', legend=True)"
      ],
      "execution_count": null,
      "outputs": []
    },
    {
      "cell_type": "code",
      "metadata": {
        "id": "pELsTfc10x_N",
        "colab_type": "code",
        "colab": {}
      },
      "source": [
        "# Incluso utilizando variables numericas\n",
        "dron_gp.plot(figsize=(10,10), column='RDTO', legend=True)"
      ],
      "execution_count": null,
      "outputs": []
    },
    {
      "cell_type": "code",
      "metadata": {
        "id": "XAn8nuec1Gkl",
        "colab_type": "code",
        "colab": {}
      },
      "source": [
        "# Incluso utilizando variables numéricas\n",
        "dron_gp.plot(figsize=(10,10), column='ZADOCK', legend=True)"
      ],
      "execution_count": null,
      "outputs": []
    },
    {
      "cell_type": "markdown",
      "metadata": {
        "id": "tA6J5-mlqcj7",
        "colab_type": "text"
      },
      "source": [
        "##Joints Espaciales"
      ]
    },
    {
      "cell_type": "code",
      "metadata": {
        "id": "LMKtAKzRqbyN",
        "colab_type": "code",
        "colab": {}
      },
      "source": [
        ""
      ],
      "execution_count": null,
      "outputs": []
    },
    {
      "cell_type": "markdown",
      "metadata": {
        "id": "Tiu5f1lV5YYD",
        "colab_type": "text"
      },
      "source": [
        "### Sistemas de Coordenadas de Referencia, CRS\n",
        "https://geopandas.org/projections.html"
      ]
    },
    {
      "cell_type": "code",
      "metadata": {
        "id": "1zX_LZdx5jnf",
        "colab_type": "code",
        "colab": {}
      },
      "source": [
        "world = gpd.read_file(gpd.datasets.get_path('naturalearth_lowres'))"
      ],
      "execution_count": null,
      "outputs": []
    },
    {
      "cell_type": "code",
      "metadata": {
        "id": "M8QkAWpD9KyB",
        "colab_type": "code",
        "colab": {}
      },
      "source": [
        "world.crs"
      ],
      "execution_count": null,
      "outputs": []
    },
    {
      "cell_type": "code",
      "metadata": {
        "id": "a4QAYvfF5tI_",
        "colab_type": "code",
        "colab": {}
      },
      "source": [
        "ax = world.plot()\n",
        "ax.set_title('WGS 84 - EPSG 4326')"
      ],
      "execution_count": null,
      "outputs": []
    },
    {
      "cell_type": "code",
      "metadata": {
        "id": "yNs2AWJV56If",
        "colab_type": "code",
        "colab": {}
      },
      "source": [
        "ax = world.to_crs('EPSG:3395').plot()\n",
        "ax.set_title('Mercator - EPSG 3395')"
      ],
      "execution_count": null,
      "outputs": []
    },
    {
      "cell_type": "markdown",
      "metadata": {
        "id": "DbTJgXfQ6ePn",
        "colab_type": "text"
      },
      "source": [
        "###Conversion a un sistema de referencia UTM local métrico\n",
        "Primero encontramos que nuestra zona correspondiente es 20J o (20L)\n",
        "\n",
        "https://www.latlong.net/lat-long-utm.html\n",
        "\n",
        "Luego encontramos que el sistema correspondiente es EPSG: 4326 WGS 84 \n",
        "\n",
        "\n",
        "https://epsg.io/4326\n"
      ]
    },
    {
      "cell_type": "code",
      "metadata": {
        "id": "Ole63BY_C4Ow",
        "colab_type": "code",
        "colab": {}
      },
      "source": [
        "dron_gp = gpd.GeoDataFrame(dron, geometry=gpd.points_from_xy(dron.Longitude, dron.Latitude))"
      ],
      "execution_count": null,
      "outputs": []
    },
    {
      "cell_type": "code",
      "metadata": {
        "id": "5myV1_iu9sn8",
        "colab_type": "code",
        "colab": {}
      },
      "source": [
        "dron_gp.crs"
      ],
      "execution_count": null,
      "outputs": []
    },
    {
      "cell_type": "code",
      "metadata": {
        "id": "Ssbebr4hDyZ1",
        "colab_type": "code",
        "colab": {}
      },
      "source": [
        "dron_gp.geometry"
      ],
      "execution_count": null,
      "outputs": []
    },
    {
      "cell_type": "markdown",
      "metadata": {
        "id": "O3C7z4L-C5Em",
        "colab_type": "text"
      },
      "source": [
        "## Generacion de features a partir de variables georeferenciadas"
      ]
    },
    {
      "cell_type": "markdown",
      "metadata": {
        "id": "rRbsLvVmEOsN",
        "colab_type": "text"
      },
      "source": [
        "####Distancia Euclideana a puntos de referencia dentro del dataset\n",
        "####Ejemplos:\n",
        "\n",
        "#####Distancia a los mayores rendimientos de cada parcela\n",
        "#####Distancia a pivot de riego\n",
        "#####Distancia a ruta más cercanas"
      ]
    },
    {
      "cell_type": "code",
      "metadata": {
        "id": "9eJJRhT5EtIg",
        "colab_type": "code",
        "colab": {}
      },
      "source": [
        "dist_dron_gp = dron_gp.distance(dron_gp.geometry[1])\n",
        "dist_dron_gp.head()"
      ],
      "execution_count": null,
      "outputs": []
    },
    {
      "cell_type": "code",
      "metadata": {
        "id": "hJOlgpJ8FqYM",
        "colab_type": "code",
        "colab": {}
      },
      "source": [
        "dist_dron_gp.hist()"
      ],
      "execution_count": null,
      "outputs": []
    },
    {
      "cell_type": "markdown",
      "metadata": {
        "id": "Tayjn4N5HyCM",
        "colab_type": "text"
      },
      "source": [
        "##Generacion de features a traves de árboles de busqueda espaciales"
      ]
    },
    {
      "cell_type": "markdown",
      "metadata": {
        "id": "0_U3oaZ-H6QD",
        "colab_type": "text"
      },
      "source": [
        "##Calculo de densidades"
      ]
    },
    {
      "cell_type": "code",
      "metadata": {
        "id": "aSklCQOpH9Pj",
        "colab_type": "code",
        "colab": {}
      },
      "source": [
        "from scipy.spatial import cKDTree"
      ],
      "execution_count": null,
      "outputs": []
    },
    {
      "cell_type": "code",
      "metadata": {
        "id": "q1XgkZNrH1SL",
        "colab_type": "code",
        "colab": {}
      },
      "source": [
        "# Convertimos las coordenas a una matriz\n",
        "dron_loc_array = [x.coords[0] for x in dron_gp.geometry]"
      ],
      "execution_count": null,
      "outputs": []
    },
    {
      "cell_type": "markdown",
      "metadata": {
        "id": "klHve9me1hNp",
        "colab_type": "text"
      },
      "source": [
        "###Pixeles en un radio de 1 metro"
      ]
    },
    {
      "cell_type": "code",
      "metadata": {
        "id": "bLhRLhS1z27K",
        "colab_type": "code",
        "colab": {}
      },
      "source": [
        "radio =30\n",
        "tree = cKDTree(dron_loc_array)\n",
        "near_points = tree.query_ball_point(dron_loc_array, radio)\n",
        "n_near_points = [len(p) for p in near_points]"
      ],
      "execution_count": null,
      "outputs": []
    },
    {
      "cell_type": "markdown",
      "metadata": {
        "id": "vl6yiXHuKNgh",
        "colab_type": "text"
      },
      "source": [
        "###Podemos convertir estos datos en variables de diferentes formas"
      ]
    },
    {
      "cell_type": "markdown",
      "metadata": {
        "id": "j5_Dgyv5KeNk",
        "colab_type": "text"
      },
      "source": [
        "###Distancia al elemento mas cercano"
      ]
    },
    {
      "cell_type": "code",
      "metadata": {
        "id": "fDw-lLAeKlux",
        "colab_type": "code",
        "colab": {}
      },
      "source": [
        "med_tree = cKDTree(dron_loc_array)\n",
        "d, i = med_tree.query(dron_loc_array, k=2, n_jobs=-1)"
      ],
      "execution_count": null,
      "outputs": []
    },
    {
      "cell_type": "code",
      "metadata": {
        "id": "ik3LNGRVLVQp",
        "colab_type": "code",
        "colab": {}
      },
      "source": [
        "sns.distplot(n_near_points)"
      ],
      "execution_count": null,
      "outputs": []
    },
    {
      "cell_type": "markdown",
      "metadata": {
        "id": "SyGnXYCP4528",
        "colab_type": "text"
      },
      "source": [
        "##Generacion de Features a partir de Grafos\n",
        "https://networkx.github.io/documentation/stable/tutorial.html\n",
        "\n",
        "Hasta el momento hemos utilizado la informacion sobre ubicacion de nuestros items pero no la interconexion entre los mismos.\n",
        "\n",
        "Para captar esta relacion queremos expresar nuestro diseño como un grafo."
      ]
    }
  ]
}