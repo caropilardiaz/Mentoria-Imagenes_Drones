{
  "nbformat": 4,
  "nbformat_minor": 0,
  "metadata": {
    "colab": {
      "name": "2_PracticoAyC.ipynb",
      "provenance": [],
      "authorship_tag": "ABX9TyO7BQAQFEMWsKvTuy3FM6eZ",
      "include_colab_link": true
    },
    "kernelspec": {
      "name": "python3",
      "display_name": "Python 3"
    }
  },
  "cells": [
    {
      "cell_type": "markdown",
      "metadata": {
        "id": "view-in-github",
        "colab_type": "text"
      },
      "source": [
        "<a href=\"https://colab.research.google.com/github/caropilardiaz/Mentoria-Imagenes_Drones/blob/master/2_PracticoAyC.ipynb\" target=\"_parent\"><img src=\"https://colab.research.google.com/assets/colab-badge.svg\" alt=\"Open In Colab\"/></a>"
      ]
    },
    {
      "cell_type": "markdown",
      "metadata": {
        "id": "hf1rZ0vU8OW0",
        "colab_type": "text"
      },
      "source": [
        "##**Diplomatura en Ciencias de Datos, Aprendizaje Automático y sus Aplicaciones**"
      ]
    },
    {
      "cell_type": "markdown",
      "metadata": {
        "id": "TqXxmQlP8oxO",
        "colab_type": "text"
      },
      "source": [
        "##**Mentoria Diplomatura en Ciencia de Datos 2020**\n",
        "### \"Detección del desarrollo del cultivo con imágenes de Drones\"\n"
      ]
    },
    {
      "cell_type": "markdown",
      "metadata": {
        "id": "V4bGC62h9FEn",
        "colab_type": "text"
      },
      "source": [
        "###**Analisis y Curación de datos**\n",
        "Se propone la elaboración de un informe o presentacion, en formato jupyter notebook que responda a las cuestiones solicitadas en cada seccion de este notebook.El informe debe contener los resultado obtenidos de cada items.\n",
        "\n"
      ]
    },
    {
      "cell_type": "markdown",
      "metadata": {
        "id": "HE8pvQ1I-PNu",
        "colab_type": "text"
      },
      "source": [
        "En este práctico partiremos de los datos crudos \"Dron1.csv\" como al inicio del práctico de visualización, e incluiremos algunos más. La idea general es dejar preparado un único dataset que nos permita alimentar futuros modelos de aprendizaje automático.\n",
        "\n",
        "Deberán incluir la información meteorológica \"clima_2018.csv\" pertinente en el dataset final.Para unificar los reportes, se recomienda utilizar el método \"merge\" de pandas ó el que ustedes elijan.\n",
        "\n",
        "Es importante que cada decisión que tomen sobre los datos quede debidamente documentada.\n",
        "\n",
        "Se recomienda trabajar empleando algún checklist para asegurarse de cumplir todas las etapas del proceso de curación. Pueden utilizar el checklist que vieron en clase, o algún otro que consideren más apropiado (en las referencias tienen uno a modo de ejemplo).\n",
        "\n",
        "###ACLARACIONES###\n",
        "\n",
        "\n",
        "\n",
        "####**Chequeos puntuales por campo**\n",
        "Campo **\"RDTO\"**:Es una variable contínua que representa uno de los targets para algoritmos con salidas de variables contínuas\n",
        "\n",
        "Campo **\"Conj de datos\"**: Verán que en este campo aparecen dos categorias que se asocian al momento de siembra diferente dentro del mismo ensayo. Las categorías \"1rasiembra\", \"2dasiembra\" indican agronómicamente siembra temprana y siembra tardía no puede haber un tipo distinto de categoría.\n",
        "\n",
        "Campo **\"ciclo\"**: Este campo también indica categorías bipuntuales.Cada genotipo tiene un determinado ciclo fenológico, ésta variable indica a que ciclo pertenece cada uno.Son grupos de interés y se encuentran tanto en fechas tempranas como en tardías. \n",
        "\n",
        "Campo **\"Roya\"**: Noten que este campo en particular contiene muchos valores pertencientes a la categoría nulos que significa ausencia de la enfermedad. Deberán determinar que hacer si es necesario incorporarla o no.\n",
        "\n",
        "Campo **\"Manchas Foliares\"**: No presenta variabilidad ni valores contundentes, significa que el cultivo en general no adolece de la enfermedad. Deberán decidir y documentar.\n",
        "\n",
        "Campo **\"Fusariosis, Carbón y Adversidad\"**:Observa que las categorías son muy diferentes en cardinalidad significa que no presenta enfermedades el cultivo. Decidir y documentar acerca de éstas variables.Acá deberán evaluar si conviene modificar el campo. Por ejemplo, mantener las categorías  y recategorizar las demás como \"Otras\". En cualquier caso, justifiquen la decisión tomada.\n",
        "\n",
        "Campo **\"Zadok\"**; Es nuestro otro target y es una variable categórica la variable zadok describe el estadío fenológico en que se encuentran las variedades e inclusive el ensayo discrimina dos estadíos fenológicos de la misma variedad utilizando fechas de siembras diferentes. Observar y documentar.\n",
        " \n",
        "Campo **\"Fecha espigazón\"**: Esta es la fecha en la que se medió el comienzo de la espigazón para cada variedad. Corroborar que la misma es anterior a la fecha de madurez.Verificar que las fechas pertenecen al rango temporal correspondiente (en este caso,sólo al año 2018). Son datos cargados manualmente con muchos errores los 2016 7 2015 agregar a 2018, \n",
        "\n",
        "Campo **\"Fecha madurez\"**: Fecha que se mide manualmente en todas la variedades. Datos muy sucios pero que se deben corresponder a fechas posteriores a las fechas de espigazón, durante el 2018.Los 2016 y 2015 agregar a 2018.\n",
        "\n",
        "Campo **\"Variedades\"**: Este campo indica los genotipos que se usaron en el ensayo, es interesante observar que las mismas variedades fueron implantadas en una fecha y en la otra. Deberán observar que variedades coincide exactamente con la variable parcela, decidir y documentar acerca del tratamiento de las mismas.\n",
        "\n",
        "Campos **\"Rep, Fila y Col\"**: Van a ver que estos campos son bastante irrelevantes. Acá la recomendación es distinguir sólo si pertenece a la variedad o no y en que zadok está la misma variedad,en definitiva tenemos 3 parcelas con la misma variedad en la primera fecha de siembra, y 3 parcelas con exactamente la misma variedad en la segunda fecha de siembra pero en distinto estadío Zadok. \n"
      ]
    },
    {
      "cell_type": "markdown",
      "metadata": {
        "id": "LgMhMLu1gHa0",
        "colab_type": "text"
      },
      "source": [
        "###**Incorporación de información climática**\n",
        "El dataset \"climaReporte_2018.csv\" contiene información climática segmentada por día. Esta información es de carácter público y fue obtenida del Sistema de gestión Clima del Dpto de información agronómica de BCCBA,  https://clima.bccba.org.ar/accounts/login/?next=/ . Determinen qué información puede ser relevante para la problemática de la mentoría e incorporenla al dataset agronómico obteniendo un dataset final.\n",
        "\n"
      ]
    },
    {
      "cell_type": "markdown",
      "metadata": {
        "id": "xgx2MW6ZkMXU",
        "colab_type": "text"
      },
      "source": [
        "###Referencias\n",
        "https://dimewiki.worldbank.org/wiki/Checklist:_Data_Cleaning"
      ]
    },
    {
      "cell_type": "markdown",
      "metadata": {
        "id": "XLTLfldMoqxa",
        "colab_type": "text"
      },
      "source": [
        "##**Importamos paquetes**"
      ]
    },
    {
      "cell_type": "code",
      "metadata": {
        "id": "P5PZhv8y5VkC",
        "colab_type": "code",
        "colab": {}
      },
      "source": [
        "# Importación de las librerías necesarias\n",
        "import numpy as np\n",
        "import pandas as pd\n",
        "# Puede que nos sirvan también\n",
        "import matplotlib as mpl\n",
        "mpl.get_cachedir()\n",
        "import matplotlib.pyplot as plt\n",
        "%matplotlib inline\n",
        "import seaborn as sns"
      ],
      "execution_count": 18,
      "outputs": []
    },
    {
      "cell_type": "code",
      "metadata": {
        "id": "mUlBEUUjpb0S",
        "colab_type": "code",
        "colab": {}
      },
      "source": [
        "pd.set_option('display.max_columns', 150)\n",
        "pd.set_option('display.max_rows', 150)\n",
        "pd.set_option('max_colwidth', 151)"
      ],
      "execution_count": 19,
      "outputs": []
    },
    {
      "cell_type": "code",
      "metadata": {
        "id": "P31Kyi_HrQF5",
        "colab_type": "code",
        "colab": {}
      },
      "source": [
        "import os"
      ],
      "execution_count": 20,
      "outputs": []
    },
    {
      "cell_type": "code",
      "metadata": {
        "id": "rhqhCGhvqfOJ",
        "colab_type": "code",
        "colab": {
          "base_uri": "https://localhost:8080/",
          "height": 34
        },
        "outputId": "4478e382-ae38-4453-9ac7-a7e1b6139e37"
      },
      "source": [
        "from google.colab import drive\n",
        "drive.mount('/content/drive')"
      ],
      "execution_count": 21,
      "outputs": [
        {
          "output_type": "stream",
          "text": [
            "Drive already mounted at /content/drive; to attempt to forcibly remount, call drive.mount(\"/content/drive\", force_remount=True).\n"
          ],
          "name": "stdout"
        }
      ]
    },
    {
      "cell_type": "code",
      "metadata": {
        "id": "d14rWOm49Iqr",
        "colab_type": "code",
        "colab": {}
      },
      "source": [
        "DATA_DIRECTORY = '/content/drive/My Drive/Mentoria-Drones-master/data/'"
      ],
      "execution_count": 22,
      "outputs": []
    },
    {
      "cell_type": "markdown",
      "metadata": {
        "id": "tTRQ3gfm6aIj",
        "colab_type": "text"
      },
      "source": [
        "##Consigna para Curación y Exploración del Dataset"
      ]
    },
    {
      "cell_type": "markdown",
      "metadata": {
        "id": "C3iSyA2DpmWY",
        "colab_type": "text"
      },
      "source": [
        "##I. Rutina de Curación\n",
        "Inicialmente, con el objetivo de preparar los datos que alimentarán futuros modelos de aprendizaje automático (ML), se propone seguir la siguiente checklist para la limpieza de los datos de nuestro proyecto. Esta checklist es la misma que utilizaron en el primer práctico de la materia y nos será de utilidad como guía para curar el dataset. A modo de ayuda, en esta notebook encontrarán una especie de template que sigue la checklist y que deberán ir completando.\n",
        "\n",
        "Cada decisión tomada deberá quedar registrada de manera explícita y clara. Luego de pasar por todos los puntos de la checklist propuesta, deberán almacenar en un nuevo archivo los datos resultantes. A los fines de realizar este práctico, se utilizará el dataset original, pero descartando todas aquellas columnas que se hayan calculado en base a features preexistentes, ya que éstas están relacionadas a decisiones que adoptaremos más adelante, como por ejemplo, sobre si es necesario crear nuevas features y si incluirlas o no. Recuerden que la ciencia de datos es un proceso circular, continuo y no lineal. Es decir, si los datos requieren de mayor procesamiento para satisfacer las necesidades de algoritmos de ML (cualesquiera de ellos), vamos a volver a la etapa inicial para, por ejemplo, crear nuevas features, tomar decisiones diferentes sobre valores faltantes o valores atípicos (outliers), descartar features, entre otras.\n",
        "###**1. Importación de Datos**\n",
        "####1.1 Cargamos datos agronómicos"
      ]
    },
    {
      "cell_type": "code",
      "metadata": {
        "id": "CruaXEklp5Bx",
        "colab_type": "code",
        "colab": {
          "base_uri": "https://localhost:8080/",
          "height": 71
        },
        "outputId": "3fcf0862-93f3-4f1a-9ecd-a6dcf1658ad0"
      },
      "source": [
        "#Editar con el path correspondiente a sus datos\n",
        "dfa = pd.read_csv(os.path.join(DATA_DIRECTORY,'Dron1.csv'))\n",
        "\n"
      ],
      "execution_count": 23,
      "outputs": [
        {
          "output_type": "stream",
          "text": [
            "/usr/local/lib/python3.6/dist-packages/IPython/core/interactiveshell.py:2718: DtypeWarning: Columns (35) have mixed types.Specify dtype option on import or set low_memory=False.\n",
            "  interactivity=interactivity, compiler=compiler, result=result)\n"
          ],
          "name": "stderr"
        }
      ]
    },
    {
      "cell_type": "code",
      "metadata": {
        "id": "y2uq8hd9sKJ0",
        "colab_type": "code",
        "colab": {
          "base_uri": "https://localhost:8080/",
          "height": 343
        },
        "outputId": "4be11d63-875d-48e1-e029-05a7aba4b1db"
      },
      "source": [
        "print(dfa.shape)\n",
        "dfa.sample(5)"
      ],
      "execution_count": 24,
      "outputs": [
        {
          "output_type": "stream",
          "text": [
            "(38920, 45)\n"
          ],
          "name": "stdout"
        },
        {
          "output_type": "execute_result",
          "data": {
            "text/html": [
              "<div>\n",
              "<style scoped>\n",
              "    .dataframe tbody tr th:only-of-type {\n",
              "        vertical-align: middle;\n",
              "    }\n",
              "\n",
              "    .dataframe tbody tr th {\n",
              "        vertical-align: top;\n",
              "    }\n",
              "\n",
              "    .dataframe thead th {\n",
              "        text-align: right;\n",
              "    }\n",
              "</style>\n",
              "<table border=\"1\" class=\"dataframe\">\n",
              "  <thead>\n",
              "    <tr style=\"text-align: right;\">\n",
              "      <th></th>\n",
              "      <th>Longitude</th>\n",
              "      <th>Latitude</th>\n",
              "      <th>Conjunto de datos</th>\n",
              "      <th>ID</th>\n",
              "      <th>Ciclos</th>\n",
              "      <th>Variedad</th>\n",
              "      <th>Rep</th>\n",
              "      <th>Parcela</th>\n",
              "      <th>ZADOCK</th>\n",
              "      <th>fila</th>\n",
              "      <th>columna</th>\n",
              "      <th>Azul</th>\n",
              "      <th>Verde</th>\n",
              "      <th>Rojo</th>\n",
              "      <th>Borde rojo</th>\n",
              "      <th>Infra Rojo</th>\n",
              "      <th>NDVI</th>\n",
              "      <th>NDRE</th>\n",
              "      <th>SAVI</th>\n",
              "      <th>SCCI</th>\n",
              "      <th>GNDVI</th>\n",
              "      <th>GVI</th>\n",
              "      <th>RVI</th>\n",
              "      <th>RedEdgeVI</th>\n",
              "      <th>LNVI</th>\n",
              "      <th>GRVI</th>\n",
              "      <th>MGRVI</th>\n",
              "      <th>NGRVI</th>\n",
              "      <th>Roya (%)</th>\n",
              "      <th>Manchas Foliares</th>\n",
              "      <th>Fusariosis</th>\n",
              "      <th>Carbon (%)</th>\n",
              "      <th>Adversidades</th>\n",
              "      <th>Fecha de espigaz?</th>\n",
              "      <th>Fecha de madurez</th>\n",
              "      <th>dias entre fechas</th>\n",
              "      <th>Vuelco</th>\n",
              "      <th>Altura</th>\n",
              "      <th>Aspecto</th>\n",
              "      <th>Peso hecto</th>\n",
              "      <th>Peso de 1000 granos</th>\n",
              "      <th>p grano</th>\n",
              "      <th>hum</th>\n",
              "      <th>PAJUST</th>\n",
              "      <th>RDTO</th>\n",
              "    </tr>\n",
              "  </thead>\n",
              "  <tbody>\n",
              "    <tr>\n",
              "      <th>31446</th>\n",
              "      <td>-2.057.290.483.445.820</td>\n",
              "      <td>-2.120.812.910.021.590</td>\n",
              "      <td>2daSiembra</td>\n",
              "      <td>11104</td>\n",
              "      <td>CC</td>\n",
              "      <td>Variedad_T</td>\n",
              "      <td>1</td>\n",
              "      <td>115</td>\n",
              "      <td>6.3</td>\n",
              "      <td>1</td>\n",
              "      <td>34</td>\n",
              "      <td>52700</td>\n",
              "      <td>11790</td>\n",
              "      <td>49000</td>\n",
              "      <td>29710</td>\n",
              "      <td>13022</td>\n",
              "      <td>-0.5801</td>\n",
              "      <td>-0.3905</td>\n",
              "      <td>-0.8701</td>\n",
              "      <td>0.6732</td>\n",
              "      <td>0.0497</td>\n",
              "      <td>1.1045</td>\n",
              "      <td>0.2658</td>\n",
              "      <td>-0.8248</td>\n",
              "      <td>10.2992</td>\n",
              "      <td>-0.6121</td>\n",
              "      <td>-0.8905</td>\n",
              "      <td>-1.1229</td>\n",
              "      <td>0</td>\n",
              "      <td>diez</td>\n",
              "      <td>cero</td>\n",
              "      <td>0</td>\n",
              "      <td>0.00</td>\n",
              "      <td>27/9/2018</td>\n",
              "      <td>20/11/2018</td>\n",
              "      <td>54</td>\n",
              "      <td>2.0</td>\n",
              "      <td>80.0</td>\n",
              "      <td>2.5</td>\n",
              "      <td>76.1</td>\n",
              "      <td>37.0</td>\n",
              "      <td>3825</td>\n",
              "      <td>9.8</td>\n",
              "      <td>4012</td>\n",
              "      <td>8024</td>\n",
              "    </tr>\n",
              "    <tr>\n",
              "      <th>21945</th>\n",
              "      <td>-2.057.278.477.116.630</td>\n",
              "      <td>-2.120.800.818.655.500</td>\n",
              "      <td>2daSiembra</td>\n",
              "      <td>1603</td>\n",
              "      <td>CL</td>\n",
              "      <td>Variedad_N</td>\n",
              "      <td>1</td>\n",
              "      <td>79</td>\n",
              "      <td>4.7</td>\n",
              "      <td>1</td>\n",
              "      <td>44</td>\n",
              "      <td>44400</td>\n",
              "      <td>95700</td>\n",
              "      <td>40000</td>\n",
              "      <td>25600</td>\n",
              "      <td>13194</td>\n",
              "      <td>-0.5039</td>\n",
              "      <td>-0.3198</td>\n",
              "      <td>-0.7559</td>\n",
              "      <td>0.6346</td>\n",
              "      <td>-0.7577</td>\n",
              "      <td>0.1379</td>\n",
              "      <td>0.3299</td>\n",
              "      <td>-0.6628</td>\n",
              "      <td>10.1503</td>\n",
              "      <td>0.4105</td>\n",
              "      <td>0.7026</td>\n",
              "      <td>1.4234</td>\n",
              "      <td>1</td>\n",
              "      <td>cero</td>\n",
              "      <td>cero</td>\n",
              "      <td>0</td>\n",
              "      <td>0.00</td>\n",
              "      <td>7/10/2018</td>\n",
              "      <td>2/12/2018</td>\n",
              "      <td>56</td>\n",
              "      <td>1.0</td>\n",
              "      <td>75.0</td>\n",
              "      <td>2.0</td>\n",
              "      <td>70.4</td>\n",
              "      <td>28.0</td>\n",
              "      <td>2470</td>\n",
              "      <td>7.9</td>\n",
              "      <td>2645</td>\n",
              "      <td>5290</td>\n",
              "    </tr>\n",
              "    <tr>\n",
              "      <th>16152</th>\n",
              "      <td>-2.057.305.208.509.710</td>\n",
              "      <td>-2.120.842.096.941.140</td>\n",
              "      <td>1er Siembra</td>\n",
              "      <td>7997</td>\n",
              "      <td>CC</td>\n",
              "      <td>Variedad_T</td>\n",
              "      <td>2</td>\n",
              "      <td>57</td>\n",
              "      <td>6.6</td>\n",
              "      <td>2</td>\n",
              "      <td>3</td>\n",
              "      <td>60700</td>\n",
              "      <td>13750</td>\n",
              "      <td>59700</td>\n",
              "      <td>31720</td>\n",
              "      <td>12001</td>\n",
              "      <td>-0.6652</td>\n",
              "      <td>-0.4510</td>\n",
              "      <td>-0.9979</td>\n",
              "      <td>0.6780</td>\n",
              "      <td>-0.0679</td>\n",
              "      <td>0.8728</td>\n",
              "      <td>0.2010</td>\n",
              "      <td>-0.9720</td>\n",
              "      <td>10.3647</td>\n",
              "      <td>-0.6256</td>\n",
              "      <td>-0.8993</td>\n",
              "      <td>-1.1120</td>\n",
              "      <td>0</td>\n",
              "      <td>cero</td>\n",
              "      <td>uno/uno</td>\n",
              "      <td>0</td>\n",
              "      <td>0.00</td>\n",
              "      <td>14/9/2015</td>\n",
              "      <td>19/11/2015</td>\n",
              "      <td>66</td>\n",
              "      <td>1.0</td>\n",
              "      <td>70.0</td>\n",
              "      <td>3.5</td>\n",
              "      <td>79.6</td>\n",
              "      <td>39.0</td>\n",
              "      <td>2175</td>\n",
              "      <td>10.3</td>\n",
              "      <td>2269</td>\n",
              "      <td>4537</td>\n",
              "    </tr>\n",
              "    <tr>\n",
              "      <th>13024</th>\n",
              "      <td>-2.057.314.170.535.450</td>\n",
              "      <td>-2.120.845.636.074.510</td>\n",
              "      <td>1er Siembra</td>\n",
              "      <td>4853</td>\n",
              "      <td>CC</td>\n",
              "      <td>Variedad_O</td>\n",
              "      <td>1</td>\n",
              "      <td>44</td>\n",
              "      <td>6.1</td>\n",
              "      <td>1</td>\n",
              "      <td>11</td>\n",
              "      <td>45000</td>\n",
              "      <td>10180</td>\n",
              "      <td>43900</td>\n",
              "      <td>23590</td>\n",
              "      <td>10177</td>\n",
              "      <td>-0.6236</td>\n",
              "      <td>-0.3972</td>\n",
              "      <td>-0.9354</td>\n",
              "      <td>0.6370</td>\n",
              "      <td>-0.0001</td>\n",
              "      <td>0.9997</td>\n",
              "      <td>0.2318</td>\n",
              "      <td>-0.8407</td>\n",
              "      <td>10.0686</td>\n",
              "      <td>-0.6235</td>\n",
              "      <td>-0.8979</td>\n",
              "      <td>-1.1137</td>\n",
              "      <td>0</td>\n",
              "      <td>cero</td>\n",
              "      <td>uno/uno</td>\n",
              "      <td>0</td>\n",
              "      <td>0.05</td>\n",
              "      <td>16/9/2018</td>\n",
              "      <td>28/11/2018</td>\n",
              "      <td>73</td>\n",
              "      <td>1.0</td>\n",
              "      <td>80.0</td>\n",
              "      <td>2.0</td>\n",
              "      <td>76.5</td>\n",
              "      <td>39.0</td>\n",
              "      <td>2110</td>\n",
              "      <td>10.5</td>\n",
              "      <td>2196</td>\n",
              "      <td>4392</td>\n",
              "    </tr>\n",
              "    <tr>\n",
              "      <th>2761</th>\n",
              "      <td>-2.057.304.645.649.740</td>\n",
              "      <td>-2.120.834.826.734.160</td>\n",
              "      <td>1er Siembra</td>\n",
              "      <td>14931</td>\n",
              "      <td>CL</td>\n",
              "      <td>Variedad_F</td>\n",
              "      <td>1</td>\n",
              "      <td>10</td>\n",
              "      <td>6.5</td>\n",
              "      <td>1</td>\n",
              "      <td>23</td>\n",
              "      <td>58600</td>\n",
              "      <td>14860</td>\n",
              "      <td>58500</td>\n",
              "      <td>42430</td>\n",
              "      <td>19912</td>\n",
              "      <td>-0.4921</td>\n",
              "      <td>-0.3612</td>\n",
              "      <td>-0.7382</td>\n",
              "      <td>0.7340</td>\n",
              "      <td>0.1453</td>\n",
              "      <td>1.3400</td>\n",
              "      <td>0.3404</td>\n",
              "      <td>-0.7565</td>\n",
              "      <td>10.6556</td>\n",
              "      <td>-0.5949</td>\n",
              "      <td>-0.8788</td>\n",
              "      <td>-1.1380</td>\n",
              "      <td>3</td>\n",
              "      <td>cero</td>\n",
              "      <td>cero</td>\n",
              "      <td>0</td>\n",
              "      <td>0.05</td>\n",
              "      <td>19/9/2018</td>\n",
              "      <td>23/11/2018</td>\n",
              "      <td>65</td>\n",
              "      <td>1.0</td>\n",
              "      <td>87.0</td>\n",
              "      <td>3.0</td>\n",
              "      <td>73.0</td>\n",
              "      <td>37.0</td>\n",
              "      <td>2715</td>\n",
              "      <td>9.6</td>\n",
              "      <td>2854</td>\n",
              "      <td>5708</td>\n",
              "    </tr>\n",
              "  </tbody>\n",
              "</table>\n",
              "</div>"
            ],
            "text/plain": [
              "                    Longitude                Latitude Conjunto de datos  \\\n",
              "31446  -2.057.290.483.445.820  -2.120.812.910.021.590        2daSiembra   \n",
              "21945  -2.057.278.477.116.630  -2.120.800.818.655.500        2daSiembra   \n",
              "16152  -2.057.305.208.509.710  -2.120.842.096.941.140       1er Siembra   \n",
              "13024  -2.057.314.170.535.450  -2.120.845.636.074.510       1er Siembra   \n",
              "2761   -2.057.304.645.649.740  -2.120.834.826.734.160       1er Siembra   \n",
              "\n",
              "         ID  Ciclos    Variedad  Rep  Parcela  ZADOCK  fila  columna   Azul  \\\n",
              "31446  11104     CC  Variedad_T    1      115     6.3     1       34  52700   \n",
              "21945   1603     CL  Variedad_N    1       79     4.7     1       44  44400   \n",
              "16152   7997     CC  Variedad_T    2       57     6.6     2        3  60700   \n",
              "13024   4853     CC  Variedad_O    1       44     6.1     1       11  45000   \n",
              "2761   14931     CL  Variedad_F    1       10     6.5     1       23  58600   \n",
              "\n",
              "       Verde   Rojo  Borde rojo  Infra Rojo    NDVI    NDRE    SAVI    SCCI  \\\n",
              "31446  11790  49000       29710       13022 -0.5801 -0.3905 -0.8701  0.6732   \n",
              "21945  95700  40000       25600       13194 -0.5039 -0.3198 -0.7559  0.6346   \n",
              "16152  13750  59700       31720       12001 -0.6652 -0.4510 -0.9979  0.6780   \n",
              "13024  10180  43900       23590       10177 -0.6236 -0.3972 -0.9354  0.6370   \n",
              "2761   14860  58500       42430       19912 -0.4921 -0.3612 -0.7382  0.7340   \n",
              "\n",
              "        GNDVI     GVI     RVI  RedEdgeVI     LNVI    GRVI   MGRVI   NGRVI  \\\n",
              "31446  0.0497  1.1045  0.2658    -0.8248  10.2992 -0.6121 -0.8905 -1.1229   \n",
              "21945 -0.7577  0.1379  0.3299    -0.6628  10.1503  0.4105  0.7026  1.4234   \n",
              "16152 -0.0679  0.8728  0.2010    -0.9720  10.3647 -0.6256 -0.8993 -1.1120   \n",
              "13024 -0.0001  0.9997  0.2318    -0.8407  10.0686 -0.6235 -0.8979 -1.1137   \n",
              "2761   0.1453  1.3400  0.3404    -0.7565  10.6556 -0.5949 -0.8788 -1.1380   \n",
              "\n",
              "       Roya (%) Manchas Foliares Fusariosis  Carbon (%)  Adversidades  \\\n",
              "31446         0             diez       cero           0          0.00   \n",
              "21945         1             cero       cero           0          0.00   \n",
              "16152         0             cero    uno/uno           0          0.00   \n",
              "13024         0             cero    uno/uno           0          0.05   \n",
              "2761          3             cero       cero           0          0.05   \n",
              "\n",
              "      Fecha de espigaz? Fecha de madurez dias entre fechas  Vuelco  Altura  \\\n",
              "31446         27/9/2018       20/11/2018                 54     2.0    80.0   \n",
              "21945         7/10/2018        2/12/2018                 56     1.0    75.0   \n",
              "16152         14/9/2015       19/11/2015                 66     1.0    70.0   \n",
              "13024         16/9/2018       28/11/2018                 73     1.0    80.0   \n",
              "2761          19/9/2018       23/11/2018                 65     1.0    87.0   \n",
              "\n",
              "       Aspecto   Peso hecto  Peso de 1000 granos  p grano   hum  PAJUST  RDTO  \n",
              "31446       2.5        76.1                 37.0     3825   9.8    4012  8024  \n",
              "21945       2.0        70.4                 28.0     2470   7.9    2645  5290  \n",
              "16152       3.5        79.6                 39.0     2175  10.3    2269  4537  \n",
              "13024       2.0        76.5                 39.0     2110  10.5    2196  4392  \n",
              "2761        3.0        73.0                 37.0     2715   9.6    2854  5708  "
            ]
          },
          "metadata": {
            "tags": []
          },
          "execution_count": 24
        }
      ]
    },
    {
      "cell_type": "markdown",
      "metadata": {
        "id": "PO3p8gcruHZR",
        "colab_type": "text"
      },
      "source": [
        "####1.2.Cargamos dataset de información climática\n"
      ]
    },
    {
      "cell_type": "code",
      "metadata": {
        "id": "3K6QMzu7uUby",
        "colab_type": "code",
        "colab": {}
      },
      "source": [
        "#Editar con el path correspondiente a sus datos\n",
        "dfc = pd.read_csv(os.path.join(DATA_DIRECTORY,'ClimaReporte_2018.csv'))\n",
        "\n"
      ],
      "execution_count": 25,
      "outputs": []
    },
    {
      "cell_type": "code",
      "metadata": {
        "id": "5m-t0WW1wRpE",
        "colab_type": "code",
        "colab": {
          "base_uri": "https://localhost:8080/",
          "height": 309
        },
        "outputId": "ad628646-0414-4ba1-e070-50ca16561675"
      },
      "source": [
        "print(dfc.shape)\n",
        "dfc.sample(5)"
      ],
      "execution_count": 26,
      "outputs": [
        {
          "output_type": "stream",
          "text": [
            "(122, 20)\n"
          ],
          "name": "stdout"
        },
        {
          "output_type": "execute_result",
          "data": {
            "text/html": [
              "<div>\n",
              "<style scoped>\n",
              "    .dataframe tbody tr th:only-of-type {\n",
              "        vertical-align: middle;\n",
              "    }\n",
              "\n",
              "    .dataframe tbody tr th {\n",
              "        vertical-align: top;\n",
              "    }\n",
              "\n",
              "    .dataframe thead th {\n",
              "        text-align: right;\n",
              "    }\n",
              "</style>\n",
              "<table border=\"1\" class=\"dataframe\">\n",
              "  <thead>\n",
              "    <tr style=\"text-align: right;\">\n",
              "      <th></th>\n",
              "      <th>Fecha</th>\n",
              "      <th>Tem. [°C] Prom</th>\n",
              "      <th>Tem. [°C] Mín</th>\n",
              "      <th>Tem. [°C] Máx</th>\n",
              "      <th>Presion [hPa] Prom</th>\n",
              "      <th>Presion [hPa] Mín</th>\n",
              "      <th>Presion [hPa] Máx</th>\n",
              "      <th>Temp suelo [°C] Prom</th>\n",
              "      <th>Temp suelo [°C] Mín</th>\n",
              "      <th>Temp suelo [°C] Máx</th>\n",
              "      <th>Lluvia Acum[mm]</th>\n",
              "      <th>Máx Inten. de Lluvia [mm/10min]</th>\n",
              "      <th>Inten de Lluvia [mm/h]</th>\n",
              "      <th>Vel de Viento [Km/h] Prom</th>\n",
              "      <th>Vel de Viento [Km/h] Máx</th>\n",
              "      <th>Hum [%HR] Prom</th>\n",
              "      <th>Hum [%HR] Mín</th>\n",
              "      <th>Hum [%HR] Máx</th>\n",
              "      <th>Raf. de Viento [km/h Prom</th>\n",
              "      <th>Raf. de Viento [km/h Máx</th>\n",
              "    </tr>\n",
              "  </thead>\n",
              "  <tbody>\n",
              "    <tr>\n",
              "      <th>95</th>\n",
              "      <td>05/12/2018</td>\n",
              "      <td>21.720</td>\n",
              "      <td>17.22</td>\n",
              "      <td>28.53</td>\n",
              "      <td>977.873</td>\n",
              "      <td>970.625</td>\n",
              "      <td>984.375</td>\n",
              "      <td>-14.262</td>\n",
              "      <td>-15.3</td>\n",
              "      <td>-13.2</td>\n",
              "      <td>0.0</td>\n",
              "      <td>0.0</td>\n",
              "      <td>0.0</td>\n",
              "      <td>10.243</td>\n",
              "      <td>22.249</td>\n",
              "      <td>53.015</td>\n",
              "      <td>34.12</td>\n",
              "      <td>79.69</td>\n",
              "      <td>17.556</td>\n",
              "      <td>42.728</td>\n",
              "    </tr>\n",
              "    <tr>\n",
              "      <th>0</th>\n",
              "      <td>01/09/2018</td>\n",
              "      <td>7.607</td>\n",
              "      <td>2.66</td>\n",
              "      <td>13.09</td>\n",
              "      <td>988.546</td>\n",
              "      <td>985.000</td>\n",
              "      <td>991.250</td>\n",
              "      <td>13.056</td>\n",
              "      <td>12.2</td>\n",
              "      <td>14.2</td>\n",
              "      <td>0.2</td>\n",
              "      <td>0.2</td>\n",
              "      <td>1.2</td>\n",
              "      <td>13.228</td>\n",
              "      <td>27.278</td>\n",
              "      <td>64.772</td>\n",
              "      <td>47.11</td>\n",
              "      <td>79.58</td>\n",
              "      <td>21.625</td>\n",
              "      <td>61.376</td>\n",
              "    </tr>\n",
              "    <tr>\n",
              "      <th>78</th>\n",
              "      <td>18/11/2018</td>\n",
              "      <td>21.381</td>\n",
              "      <td>13.61</td>\n",
              "      <td>28.16</td>\n",
              "      <td>981.584</td>\n",
              "      <td>978.125</td>\n",
              "      <td>986.250</td>\n",
              "      <td>-23.967</td>\n",
              "      <td>-24.3</td>\n",
              "      <td>-23.6</td>\n",
              "      <td>0.0</td>\n",
              "      <td>0.0</td>\n",
              "      <td>0.0</td>\n",
              "      <td>12.075</td>\n",
              "      <td>18.849</td>\n",
              "      <td>29.063</td>\n",
              "      <td>11.49</td>\n",
              "      <td>52.80</td>\n",
              "      <td>20.936</td>\n",
              "      <td>30.678</td>\n",
              "    </tr>\n",
              "    <tr>\n",
              "      <th>66</th>\n",
              "      <td>06/11/2018</td>\n",
              "      <td>20.482</td>\n",
              "      <td>18.36</td>\n",
              "      <td>23.47</td>\n",
              "      <td>983.112</td>\n",
              "      <td>977.500</td>\n",
              "      <td>988.125</td>\n",
              "      <td>-14.749</td>\n",
              "      <td>-15.3</td>\n",
              "      <td>-14.0</td>\n",
              "      <td>16.2</td>\n",
              "      <td>3.2</td>\n",
              "      <td>19.2</td>\n",
              "      <td>9.023</td>\n",
              "      <td>29.491</td>\n",
              "      <td>90.301</td>\n",
              "      <td>77.68</td>\n",
              "      <td>98.46</td>\n",
              "      <td>15.454</td>\n",
              "      <td>49.004</td>\n",
              "    </tr>\n",
              "    <tr>\n",
              "      <th>100</th>\n",
              "      <td>10/12/2018</td>\n",
              "      <td>28.052</td>\n",
              "      <td>18.68</td>\n",
              "      <td>36.39</td>\n",
              "      <td>974.670</td>\n",
              "      <td>968.125</td>\n",
              "      <td>979.375</td>\n",
              "      <td>-13.749</td>\n",
              "      <td>-17.0</td>\n",
              "      <td>-12.0</td>\n",
              "      <td>0.0</td>\n",
              "      <td>0.0</td>\n",
              "      <td>0.0</td>\n",
              "      <td>17.126</td>\n",
              "      <td>36.110</td>\n",
              "      <td>51.795</td>\n",
              "      <td>28.76</td>\n",
              "      <td>82.77</td>\n",
              "      <td>29.747</td>\n",
              "      <td>64.233</td>\n",
              "    </tr>\n",
              "  </tbody>\n",
              "</table>\n",
              "</div>"
            ],
            "text/plain": [
              "          Fecha  Tem. [°C] Prom  Tem. [°C] Mín  Tem. [°C] Máx  \\\n",
              "95   05/12/2018          21.720          17.22          28.53   \n",
              "0    01/09/2018           7.607           2.66          13.09   \n",
              "78   18/11/2018          21.381          13.61          28.16   \n",
              "66   06/11/2018          20.482          18.36          23.47   \n",
              "100  10/12/2018          28.052          18.68          36.39   \n",
              "\n",
              "     Presion [hPa] Prom  Presion [hPa] Mín  Presion [hPa] Máx  \\\n",
              "95              977.873            970.625            984.375   \n",
              "0               988.546            985.000            991.250   \n",
              "78              981.584            978.125            986.250   \n",
              "66              983.112            977.500            988.125   \n",
              "100             974.670            968.125            979.375   \n",
              "\n",
              "     Temp suelo [°C] Prom  Temp suelo [°C] Mín  Temp suelo [°C] Máx  \\\n",
              "95                -14.262                -15.3                -13.2   \n",
              "0                  13.056                 12.2                 14.2   \n",
              "78                -23.967                -24.3                -23.6   \n",
              "66                -14.749                -15.3                -14.0   \n",
              "100               -13.749                -17.0                -12.0   \n",
              "\n",
              "     Lluvia Acum[mm]  Máx Inten. de Lluvia [mm/10min]  Inten de Lluvia [mm/h]  \\\n",
              "95               0.0                              0.0                     0.0   \n",
              "0                0.2                              0.2                     1.2   \n",
              "78               0.0                              0.0                     0.0   \n",
              "66              16.2                              3.2                    19.2   \n",
              "100              0.0                              0.0                     0.0   \n",
              "\n",
              "     Vel de Viento [Km/h] Prom  Vel de Viento [Km/h] Máx  Hum [%HR] Prom  \\\n",
              "95                      10.243                    22.249          53.015   \n",
              "0                       13.228                    27.278          64.772   \n",
              "78                      12.075                    18.849          29.063   \n",
              "66                       9.023                    29.491          90.301   \n",
              "100                     17.126                    36.110          51.795   \n",
              "\n",
              "     Hum [%HR] Mín  Hum [%HR] Máx  Raf. de Viento [km/h Prom  \\\n",
              "95           34.12          79.69                     17.556   \n",
              "0            47.11          79.58                     21.625   \n",
              "78           11.49          52.80                     20.936   \n",
              "66           77.68          98.46                     15.454   \n",
              "100          28.76          82.77                     29.747   \n",
              "\n",
              "     Raf. de Viento [km/h Máx  \n",
              "95                     42.728  \n",
              "0                      61.376  \n",
              "78                     30.678  \n",
              "66                     49.004  \n",
              "100                    64.233  "
            ]
          },
          "metadata": {
            "tags": []
          },
          "execution_count": 26
        }
      ]
    },
    {
      "cell_type": "markdown",
      "metadata": {
        "id": "4AiPw4520nOb",
        "colab_type": "text"
      },
      "source": [
        "####Tipos de datos que tenemos"
      ]
    },
    {
      "cell_type": "code",
      "metadata": {
        "id": "Oa4DKwwZ_rWg",
        "colab_type": "code",
        "colab": {
          "base_uri": "https://localhost:8080/",
          "height": 799
        },
        "outputId": "a84fc7d9-3306-4fe7-eb61-79ef6d09f896"
      },
      "source": [
        "dfa.dtypes"
      ],
      "execution_count": 27,
      "outputs": [
        {
          "output_type": "execute_result",
          "data": {
            "text/plain": [
              "Longitude               object\n",
              "Latitude                object\n",
              "Conjunto de datos       object\n",
              "ID                       int64\n",
              "Ciclos                  object\n",
              "Variedad                object\n",
              "Rep                      int64\n",
              "Parcela                  int64\n",
              "ZADOCK                 float64\n",
              "fila                     int64\n",
              "columna                  int64\n",
              "Azul                     int64\n",
              "Verde                    int64\n",
              "Rojo                     int64\n",
              "Borde rojo               int64\n",
              "Infra Rojo               int64\n",
              "NDVI                   float64\n",
              "NDRE                   float64\n",
              "SAVI                   float64\n",
              "SCCI                   float64\n",
              "GNDVI                  float64\n",
              "GVI                    float64\n",
              "RVI                    float64\n",
              "RedEdgeVI              float64\n",
              "LNVI                   float64\n",
              "GRVI                   float64\n",
              "MGRVI                  float64\n",
              "NGRVI                  float64\n",
              "Roya (%)                 int64\n",
              "Manchas Foliares        object\n",
              "Fusariosis              object\n",
              "Carbon (%)               int64\n",
              "Adversidades           float64\n",
              "Fecha de espigaz?       object\n",
              "Fecha de madurez        object\n",
              "dias entre fechas      object\n",
              "Vuelco                 float64\n",
              "Altura                 float64\n",
              "Aspecto                float64\n",
              "Peso hecto             float64\n",
              "Peso de 1000 granos    float64\n",
              "p grano                  int64\n",
              "hum                    float64\n",
              "PAJUST                   int64\n",
              "RDTO                     int64\n",
              "dtype: object"
            ]
          },
          "metadata": {
            "tags": []
          },
          "execution_count": 27
        }
      ]
    },
    {
      "cell_type": "markdown",
      "metadata": {
        "id": "v6-H2d_CCqro",
        "colab_type": "text"
      },
      "source": [
        ""
      ]
    },
    {
      "cell_type": "code",
      "metadata": {
        "id": "pbKZpQ8p9LLV",
        "colab_type": "code",
        "colab": {
          "base_uri": "https://localhost:8080/",
          "height": 374
        },
        "outputId": "9b8189be-96ff-440f-bfa2-fc49206a62fa"
      },
      "source": [
        "dfc.dtypes"
      ],
      "execution_count": 28,
      "outputs": [
        {
          "output_type": "execute_result",
          "data": {
            "text/plain": [
              "Fecha                               object\n",
              "Tem. [°C] Prom                     float64\n",
              "Tem. [°C] Mín                      float64\n",
              "Tem. [°C] Máx                      float64\n",
              "Presion [hPa] Prom                 float64\n",
              "Presion [hPa] Mín                  float64\n",
              "Presion [hPa] Máx                  float64\n",
              "Temp suelo [°C] Prom               float64\n",
              "Temp suelo [°C] Mín                float64\n",
              "Temp suelo [°C] Máx                float64\n",
              "Lluvia Acum[mm]                    float64\n",
              "Máx Inten. de Lluvia [mm/10min]    float64\n",
              "Inten de Lluvia [mm/h]             float64\n",
              "Vel de Viento [Km/h] Prom          float64\n",
              "Vel de Viento [Km/h] Máx           float64\n",
              "Hum [%HR] Prom                     float64\n",
              "Hum [%HR] Mín                      float64\n",
              "Hum [%HR] Máx                      float64\n",
              "Raf. de Viento [km/h Prom          float64\n",
              "Raf. de Viento [km/h Máx           float64\n",
              "dtype: object"
            ]
          },
          "metadata": {
            "tags": []
          },
          "execution_count": 28
        }
      ]
    },
    {
      "cell_type": "markdown",
      "metadata": {
        "id": "vO_5FuDp08kZ",
        "colab_type": "text"
      },
      "source": [
        "#### 1.3. Asegurar la Existencia de IDs o Claves Únicas"
      ]
    },
    {
      "cell_type": "markdown",
      "metadata": {
        "id": "qB0U_BFoCgq4",
        "colab_type": "text"
      },
      "source": [
        "##### El siguiente paso implica chequear que no existen datos duplicados y que las claves, si existen, son únicas."
      ]
    },
    {
      "cell_type": "code",
      "metadata": {
        "id": "U4wWxIcFDUAf",
        "colab_type": "code",
        "colab": {}
      },
      "source": [
        ""
      ],
      "execution_count": null,
      "outputs": []
    },
    {
      "cell_type": "markdown",
      "metadata": {
        "id": "TCA-32DqDJFq",
        "colab_type": "text"
      },
      "source": [
        "####1.4. Despersonalizar Datos si hiciera falta y Guardarlos en un Nuevo Archivo"
      ]
    },
    {
      "cell_type": "markdown",
      "metadata": {
        "id": "u2u5cHkNDis4",
        "colab_type": "text"
      },
      "source": [
        " Nunca Modificar los Datos Crudos u Originales"
      ]
    },
    {
      "cell_type": "markdown",
      "metadata": {
        "id": "dpgsBnow08ke",
        "colab_type": "text"
      },
      "source": [
        "####**2. Pasos de Limpieza Necesarios**\n"
      ]
    },
    {
      "cell_type": "markdown",
      "metadata": {
        "id": "UAodJbMcyUu5",
        "colab_type": "text"
      },
      "source": [
        "####2.1.Etiquetas de Variables/Columnas y Problemas de Codificación/Encoding"
      ]
    },
    {
      "cell_type": "code",
      "metadata": {
        "id": "NGzA-Fu0yDII",
        "colab_type": "code",
        "colab": {}
      },
      "source": [
        "import chardet"
      ],
      "execution_count": null,
      "outputs": []
    },
    {
      "cell_type": "code",
      "metadata": {
        "id": "zNMFfTBTywzx",
        "colab_type": "code",
        "colab": {}
      },
      "source": [
        "import requests\n",
        "rawdata = requests.get(dfa)\n",
        "result = chardet.detect(rawdata.content[:100000])\n",
        "result"
      ],
      "execution_count": null,
      "outputs": []
    },
    {
      "cell_type": "markdown",
      "metadata": {
        "id": "GeG3xaLtz27w",
        "colab_type": "text"
      },
      "source": [
        "####2.2.Tratamiento de Valores Faltantes\n"
      ]
    },
    {
      "cell_type": "markdown",
      "metadata": {
        "id": "VLjQ7Dtg0Qgg",
        "colab_type": "text"
      },
      "source": [
        "####Para analizar los valores faltantes, primero deberán saber cuántos existen por campo y cuánto representan del total:\n",
        "\n"
      ]
    },
    {
      "cell_type": "code",
      "metadata": {
        "id": "46ExCSLV0UBI",
        "colab_type": "code",
        "colab": {
          "base_uri": "https://localhost:8080/",
          "height": 40
        },
        "outputId": "aec67feb-1200-44c7-af75-5246a8da9ff9"
      },
      "source": [
        "valores_faltantes = pd.DataFrame([dfa.isnull().sum(),\n",
        "                                   dfa.isnull().sum()/len(dfa)]).transpose().rename(\n",
        "    columns = {0:'Cantidad_NaN',1:'Porcentaje_Nan_s_Total'})\n",
        "\n",
        "valores_faltantes.loc[valores_faltantes['Cantidad_NaN']>0].style.format({'Porcentaje_Nan_s_Total':\"{:.2%}\"})"
      ],
      "execution_count": null,
      "outputs": [
        {
          "output_type": "execute_result",
          "data": {
            "text/html": [
              "<style  type=\"text/css\" >\n",
              "</style><table id=\"T_4e531c00_c08b_11ea_bd59_0242ac1c0002\" ><thead>    <tr>        <th class=\"blank level0\" ></th>        <th class=\"col_heading level0 col0\" >Cantidad_NaN</th>        <th class=\"col_heading level0 col1\" >Porcentaje_Nan_s_Total</th>    </tr></thead><tbody>\n",
              "        </tbody></table>"
            ],
            "text/plain": [
              "<pandas.io.formats.style.Styler at 0x7fdfa6f19c88>"
            ]
          },
          "metadata": {
            "tags": []
          },
          "execution_count": 40
        }
      ]
    },
    {
      "cell_type": "markdown",
      "metadata": {
        "id": "YBAoVqmmAF2I",
        "colab_type": "text"
      },
      "source": [
        "####2.3.Codificación de Variables Categóricas"
      ]
    },
    {
      "cell_type": "markdown",
      "metadata": {
        "id": "1y3wtCUKB_BD",
        "colab_type": "text"
      },
      "source": [
        "En el dataset agronómico, exiten categorías de enfermedades que se podrían cambiar la cardinalidad. Agrupando varios niveles y dejando el nivel cero."
      ]
    },
    {
      "cell_type": "markdown",
      "metadata": {
        "id": "wpRyB35vEAZp",
        "colab_type": "text"
      },
      "source": [
        "####2.4. No Cambiar los Nombres de las Variables de la Fuente de Origen\n"
      ]
    },
    {
      "cell_type": "code",
      "metadata": {
        "id": "o0fNhNgx_foc",
        "colab_type": "code",
        "colab": {}
      },
      "source": [
        ""
      ],
      "execution_count": null,
      "outputs": []
    },
    {
      "cell_type": "markdown",
      "metadata": {
        "id": "EUwpjdE9ESDZ",
        "colab_type": "text"
      },
      "source": [
        "####2.5. Verificación de Consistencia de Datos"
      ]
    },
    {
      "cell_type": "markdown",
      "metadata": {
        "id": "ITN2buDqEavw",
        "colab_type": "text"
      },
      "source": [
        "#####Este es el paso más analítico, en donde se deben aplicar reglas de integridad.\n",
        "\n"
      ]
    },
    {
      "cell_type": "markdown",
      "metadata": {
        "id": "a1DW1YeME9te",
        "colab_type": "text"
      },
      "source": [
        "#### Template para tests de integridad"
      ]
    },
    {
      "cell_type": "code",
      "metadata": {
        "id": "8Mft66DSE9tf",
        "colab_type": "code",
        "colab": {},
        "outputId": "7c23bc48-3542-4505-dbbc-46af7cf58558"
      },
      "source": [
        "def test1(df):\n",
        "    \"\"\"\n",
        "    Devuelve 0 si el test es exitoso, y 1 si el test falla\n",
        "    \"\"\"\n",
        "    \n",
        "    return 1\n",
        "\n",
        "def test2(df):\n",
        "    \"\"\"\n",
        "    Devuelve 0 si el test es exitoso, y 1 si el test falla\n",
        "    \"\"\"\n",
        "    return 0\n",
        "\n",
        "def test_integridad(df):\n",
        "    \"\"\"\n",
        "    Ejecuta uno por uno los tests e informa el resultado\n",
        "    \"\"\"\n",
        "        \n",
        "    print('Test 1: %s' % ('ERROR' if test1(df) else 'EXITOSO'))\n",
        "    print('Test 2: %s' % ('ERROR' if test2(df) else 'EXITOSO'))\n",
        "        \n",
        "    return\n",
        "\n",
        "test_integridad(1)"
      ],
      "execution_count": null,
      "outputs": [
        {
          "output_type": "stream",
          "text": [
            "Test 1: ERROR\n",
            "Test 2: EXITOSO\n"
          ],
          "name": "stdout"
        }
      ]
    },
    {
      "cell_type": "markdown",
      "metadata": {
        "id": "a_aImhEWFheP",
        "colab_type": "text"
      },
      "source": [
        "####2.6. Identificar y Documentar Valores Atípicos/Outliers"
      ]
    },
    {
      "cell_type": "markdown",
      "metadata": {
        "id": "cPuVXK0vFqPf",
        "colab_type": "text"
      },
      "source": [
        "####2.7. Guardar el Set de Datos con un Nombre Informativo"
      ]
    },
    {
      "cell_type": "markdown",
      "metadata": {
        "id": "OYczTc4uHdjg",
        "colab_type": "text"
      },
      "source": [
        "####**3.Chequeos por campo**"
      ]
    },
    {
      "cell_type": "markdown",
      "metadata": {
        "id": "vMNCsz3_Igm3",
        "colab_type": "text"
      },
      "source": [
        "####3.1. Ordenar Variables/Columnas"
      ]
    },
    {
      "cell_type": "markdown",
      "metadata": {
        "id": "NRVutVwmIzvg",
        "colab_type": "text"
      },
      "source": [
        "####3.2. Quitar Variables/Columnas Irrelevantes\n",
        "######Este paso es muy importante. Deben decidir con cuál de las targets van a modelar, ó con las dos (Rdto, ZADOK)es opcional. LAS variables que tienen muy alta correlación CON RDTO como peso ajustado, humedad no tienen sentido retenerlas. Son variables que conforman la target rdto. Evitar eliminar las que tengan que ver con los índices de vegetación.Recomiendo aplicar mapa de correlación."
      ]
    },
    {
      "cell_type": "markdown",
      "metadata": {
        "id": "bFSUNeBKKZf6",
        "colab_type": "text"
      },
      "source": [
        "####3.3. Renombrar Variables\n",
        "Algunos names son muy largos"
      ]
    },
    {
      "cell_type": "markdown",
      "metadata": {
        "id": "GY0stt3lKq8I",
        "colab_type": "text"
      },
      "source": [
        "####3.4. Categorizar Variables que Contengan “Otros”\n",
        "#####Sobretodo la variables de enfermedades, como Carbón, fusariosis,etc, presentan desbalance en los niveles de sus categorías. Decidir si nombrar otros y agrupar a las que contengan menos entrada"
      ]
    },
    {
      "cell_type": "markdown",
      "metadata": {
        "id": "UbvHdI3wLWWQ",
        "colab_type": "text"
      },
      "source": [
        "####3.5. Agregar Metadata a los Datos\n",
        "#####Cuando y como fueron obtenidos, limpieza realizada, decisiones implementadas, asunciones, etc.\n",
        "\n",
        "\n"
      ]
    },
    {
      "cell_type": "markdown",
      "metadata": {
        "id": "TLRpPqosNqkP",
        "colab_type": "text"
      },
      "source": [
        "#II.Incorporación de datos climáticos"
      ]
    },
    {
      "cell_type": "markdown",
      "metadata": {
        "id": "Jrtz054LMy63",
        "colab_type": "text"
      },
      "source": [
        "####**1. Incorporación de información climática**"
      ]
    },
    {
      "cell_type": "markdown",
      "metadata": {
        "id": "CUL4Hzv4BXTH",
        "colab_type": "text"
      },
      "source": [
        "##### Variables climáticas a utilizar para incorporar al dataset. Explorar"
      ]
    },
    {
      "cell_type": "markdown",
      "metadata": {
        "id": "6YHxK6dXAd0a",
        "colab_type": "text"
      },
      "source": [
        "####**2. Unificar**"
      ]
    },
    {
      "cell_type": "markdown",
      "metadata": {
        "id": "H03QRX1JM-l5",
        "colab_type": "text"
      },
      "source": [
        "#####Unificar el dataset obtenido (luego de aplicar la limpieza) con los datos climáticos."
      ]
    }
  ]
}